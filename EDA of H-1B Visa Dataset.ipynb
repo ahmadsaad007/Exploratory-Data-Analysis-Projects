{
 "cells": [
  {
   "cell_type": "markdown",
   "metadata": {},
   "source": [
    "# EDA AND VISUALIZATION ON H-1B VISA DataSet"
   ]
  },
  {
   "cell_type": "markdown",
   "metadata": {},
   "source": [
    "We are going to perform exploratory data analysis and visualization on H-1B dataset obtained through https://www.kaggle.com/jmpark746/h1b-visas \n",
    "\n",
    "We would like to find some underlying trends in the data and see if we can deduce anything conclusive from the data over the years.\n",
    "The data is available for years 2016, 2017 and 2018"
   ]
  },
  {
   "cell_type": "code",
   "execution_count": 1,
   "metadata": {},
   "outputs": [],
   "source": [
    "import pandas as pd\n",
    "import numpy as np\n",
    "import csv\n",
    "import matplotlib as plt\n",
    "import seaborn as sns"
   ]
  },
  {
   "cell_type": "code",
   "execution_count": 2,
   "metadata": {},
   "outputs": [
    {
     "data": {
      "text/html": [
       "<div>\n",
       "<style scoped>\n",
       "    .dataframe tbody tr th:only-of-type {\n",
       "        vertical-align: middle;\n",
       "    }\n",
       "\n",
       "    .dataframe tbody tr th {\n",
       "        vertical-align: top;\n",
       "    }\n",
       "\n",
       "    .dataframe thead th {\n",
       "        text-align: right;\n",
       "    }\n",
       "</style>\n",
       "<table border=\"1\" class=\"dataframe\">\n",
       "  <thead>\n",
       "    <tr style=\"text-align: right;\">\n",
       "      <th></th>\n",
       "      <th>Unnamed: 0</th>\n",
       "      <th>CASE_STATUS</th>\n",
       "      <th>EMPLOYER_NAME</th>\n",
       "      <th>SOC_NAME</th>\n",
       "      <th>JOB_TITLE</th>\n",
       "      <th>FULL_TIME_POSITION</th>\n",
       "      <th>PREVAILING_WAGE</th>\n",
       "      <th>YEAR</th>\n",
       "      <th>WORKSITE</th>\n",
       "      <th>lon</th>\n",
       "      <th>lat</th>\n",
       "    </tr>\n",
       "  </thead>\n",
       "  <tbody>\n",
       "    <tr>\n",
       "      <th>0</th>\n",
       "      <td>1</td>\n",
       "      <td>CERTIFIED-WITHDRAWN</td>\n",
       "      <td>UNIVERSITY OF MICHIGAN</td>\n",
       "      <td>BIOCHEMISTS AND BIOPHYSICISTS</td>\n",
       "      <td>POSTDOCTORAL RESEARCH FELLOW</td>\n",
       "      <td>N</td>\n",
       "      <td>36067.0</td>\n",
       "      <td>2016.0</td>\n",
       "      <td>ANN ARBOR, MICHIGAN</td>\n",
       "      <td>-83.743038</td>\n",
       "      <td>42.280826</td>\n",
       "    </tr>\n",
       "    <tr>\n",
       "      <th>1</th>\n",
       "      <td>2</td>\n",
       "      <td>CERTIFIED-WITHDRAWN</td>\n",
       "      <td>GOODMAN NETWORKS, INC.</td>\n",
       "      <td>CHIEF EXECUTIVES</td>\n",
       "      <td>CHIEF OPERATING OFFICER</td>\n",
       "      <td>Y</td>\n",
       "      <td>242674.0</td>\n",
       "      <td>2016.0</td>\n",
       "      <td>PLANO, TEXAS</td>\n",
       "      <td>-96.698886</td>\n",
       "      <td>33.019843</td>\n",
       "    </tr>\n",
       "    <tr>\n",
       "      <th>2</th>\n",
       "      <td>3</td>\n",
       "      <td>CERTIFIED-WITHDRAWN</td>\n",
       "      <td>PORTS AMERICA GROUP, INC.</td>\n",
       "      <td>CHIEF EXECUTIVES</td>\n",
       "      <td>CHIEF PROCESS OFFICER</td>\n",
       "      <td>Y</td>\n",
       "      <td>193066.0</td>\n",
       "      <td>2016.0</td>\n",
       "      <td>JERSEY CITY, NEW JERSEY</td>\n",
       "      <td>-74.077642</td>\n",
       "      <td>40.728158</td>\n",
       "    </tr>\n",
       "    <tr>\n",
       "      <th>3</th>\n",
       "      <td>4</td>\n",
       "      <td>CERTIFIED-WITHDRAWN</td>\n",
       "      <td>GATES CORPORATION, A WHOLLY-OWNED SUBSIDIARY O...</td>\n",
       "      <td>CHIEF EXECUTIVES</td>\n",
       "      <td>REGIONAL PRESIDEN, AMERICAS</td>\n",
       "      <td>Y</td>\n",
       "      <td>220314.0</td>\n",
       "      <td>2016.0</td>\n",
       "      <td>DENVER, COLORADO</td>\n",
       "      <td>-104.990251</td>\n",
       "      <td>39.739236</td>\n",
       "    </tr>\n",
       "    <tr>\n",
       "      <th>4</th>\n",
       "      <td>5</td>\n",
       "      <td>WITHDRAWN</td>\n",
       "      <td>PEABODY INVESTMENTS CORP.</td>\n",
       "      <td>CHIEF EXECUTIVES</td>\n",
       "      <td>PRESIDENT MONGOLIA AND INDIA</td>\n",
       "      <td>Y</td>\n",
       "      <td>157518.4</td>\n",
       "      <td>2016.0</td>\n",
       "      <td>ST. LOUIS, MISSOURI</td>\n",
       "      <td>-90.199404</td>\n",
       "      <td>38.627003</td>\n",
       "    </tr>\n",
       "  </tbody>\n",
       "</table>\n",
       "</div>"
      ],
      "text/plain": [
       "   Unnamed: 0          CASE_STATUS  \\\n",
       "0           1  CERTIFIED-WITHDRAWN   \n",
       "1           2  CERTIFIED-WITHDRAWN   \n",
       "2           3  CERTIFIED-WITHDRAWN   \n",
       "3           4  CERTIFIED-WITHDRAWN   \n",
       "4           5            WITHDRAWN   \n",
       "\n",
       "                                       EMPLOYER_NAME  \\\n",
       "0                             UNIVERSITY OF MICHIGAN   \n",
       "1                             GOODMAN NETWORKS, INC.   \n",
       "2                          PORTS AMERICA GROUP, INC.   \n",
       "3  GATES CORPORATION, A WHOLLY-OWNED SUBSIDIARY O...   \n",
       "4                          PEABODY INVESTMENTS CORP.   \n",
       "\n",
       "                        SOC_NAME                     JOB_TITLE  \\\n",
       "0  BIOCHEMISTS AND BIOPHYSICISTS  POSTDOCTORAL RESEARCH FELLOW   \n",
       "1               CHIEF EXECUTIVES       CHIEF OPERATING OFFICER   \n",
       "2               CHIEF EXECUTIVES         CHIEF PROCESS OFFICER   \n",
       "3               CHIEF EXECUTIVES   REGIONAL PRESIDEN, AMERICAS   \n",
       "4               CHIEF EXECUTIVES  PRESIDENT MONGOLIA AND INDIA   \n",
       "\n",
       "  FULL_TIME_POSITION  PREVAILING_WAGE    YEAR                 WORKSITE  \\\n",
       "0                  N          36067.0  2016.0      ANN ARBOR, MICHIGAN   \n",
       "1                  Y         242674.0  2016.0             PLANO, TEXAS   \n",
       "2                  Y         193066.0  2016.0  JERSEY CITY, NEW JERSEY   \n",
       "3                  Y         220314.0  2016.0         DENVER, COLORADO   \n",
       "4                  Y         157518.4  2016.0      ST. LOUIS, MISSOURI   \n",
       "\n",
       "          lon        lat  \n",
       "0  -83.743038  42.280826  \n",
       "1  -96.698886  33.019843  \n",
       "2  -74.077642  40.728158  \n",
       "3 -104.990251  39.739236  \n",
       "4  -90.199404  38.627003  "
      ]
     },
     "execution_count": 2,
     "metadata": {},
     "output_type": "execute_result"
    }
   ],
   "source": [
    "df = pd.read_csv('h1b16.csv', encoding='utf-8')\n",
    "df.head()"
   ]
  },
  {
   "cell_type": "code",
   "execution_count": 3,
   "metadata": {},
   "outputs": [
    {
     "name": "stdout",
     "output_type": "stream",
     "text": [
      "Shape:  (3002458, 11)\n",
      "Columns:  Index(['Unnamed: 0', 'CASE_STATUS', 'EMPLOYER_NAME', 'SOC_NAME', 'JOB_TITLE',\n",
      "       'FULL_TIME_POSITION', 'PREVAILING_WAGE', 'YEAR', 'WORKSITE', 'lon',\n",
      "       'lat'],\n",
      "      dtype='object')\n"
     ]
    }
   ],
   "source": [
    "print(\"Shape: \",df.shape)\n",
    "print(\"Columns: \",df.columns)"
   ]
  },
  {
   "cell_type": "code",
   "execution_count": 4,
   "metadata": {},
   "outputs": [
    {
     "data": {
      "text/plain": [
       "['CERTIFIED-WITHDRAWN',\n",
       " 'WITHDRAWN',\n",
       " 'CERTIFIED',\n",
       " 'DENIED',\n",
       " 'REJECTED',\n",
       " 'INVALIDATED',\n",
       " 'PENDING QUALITY AND COMPLIANCE REVIEW - UNASSIGNED',\n",
       " nan]"
      ]
     },
     "execution_count": 4,
     "metadata": {},
     "output_type": "execute_result"
    }
   ],
   "source": [
    "df['CASE_STATUS'].unique().tolist()"
   ]
  },
  {
   "cell_type": "markdown",
   "metadata": {},
   "source": [
    "#### Let's take a look at all the entries that were Certified first:"
   ]
  },
  {
   "cell_type": "code",
   "execution_count": 5,
   "metadata": {},
   "outputs": [
    {
     "data": {
      "text/plain": [
       "(2615623, 11)"
      ]
     },
     "execution_count": 5,
     "metadata": {},
     "output_type": "execute_result"
    }
   ],
   "source": [
    "df_cert = df[df['CASE_STATUS']=='CERTIFIED']\n",
    "df_cert.shape"
   ]
  },
  {
   "cell_type": "code",
   "execution_count": 6,
   "metadata": {},
   "outputs": [
    {
     "data": {
      "text/html": [
       "<div>\n",
       "<style scoped>\n",
       "    .dataframe tbody tr th:only-of-type {\n",
       "        vertical-align: middle;\n",
       "    }\n",
       "\n",
       "    .dataframe tbody tr th {\n",
       "        vertical-align: top;\n",
       "    }\n",
       "\n",
       "    .dataframe thead th {\n",
       "        text-align: right;\n",
       "    }\n",
       "</style>\n",
       "<table border=\"1\" class=\"dataframe\">\n",
       "  <thead>\n",
       "    <tr style=\"text-align: right;\">\n",
       "      <th></th>\n",
       "      <th>Unnamed: 0</th>\n",
       "      <th>PREVAILING_WAGE</th>\n",
       "      <th>YEAR</th>\n",
       "      <th>lon</th>\n",
       "      <th>lat</th>\n",
       "    </tr>\n",
       "  </thead>\n",
       "  <tbody>\n",
       "    <tr>\n",
       "      <th>count</th>\n",
       "      <td>3.002458e+06</td>\n",
       "      <td>3.002373e+06</td>\n",
       "      <td>3.002445e+06</td>\n",
       "      <td>2.895216e+06</td>\n",
       "      <td>2.895216e+06</td>\n",
       "    </tr>\n",
       "    <tr>\n",
       "      <th>mean</th>\n",
       "      <td>1.501230e+06</td>\n",
       "      <td>1.469984e+05</td>\n",
       "      <td>2.013855e+03</td>\n",
       "      <td>-9.213441e+01</td>\n",
       "      <td>3.816054e+01</td>\n",
       "    </tr>\n",
       "    <tr>\n",
       "      <th>std</th>\n",
       "      <td>8.667351e+05</td>\n",
       "      <td>5.287609e+06</td>\n",
       "      <td>1.680612e+00</td>\n",
       "      <td>1.965591e+01</td>\n",
       "      <td>4.672835e+00</td>\n",
       "    </tr>\n",
       "    <tr>\n",
       "      <th>min</th>\n",
       "      <td>1.000000e+00</td>\n",
       "      <td>0.000000e+00</td>\n",
       "      <td>2.011000e+03</td>\n",
       "      <td>-1.578583e+02</td>\n",
       "      <td>1.343719e+01</td>\n",
       "    </tr>\n",
       "    <tr>\n",
       "      <th>25%</th>\n",
       "      <td>7.506152e+05</td>\n",
       "      <td>5.437100e+04</td>\n",
       "      <td>2.012000e+03</td>\n",
       "      <td>-1.119261e+02</td>\n",
       "      <td>3.416536e+01</td>\n",
       "    </tr>\n",
       "    <tr>\n",
       "      <th>50%</th>\n",
       "      <td>1.501230e+06</td>\n",
       "      <td>6.502100e+04</td>\n",
       "      <td>2.014000e+03</td>\n",
       "      <td>-8.615862e+01</td>\n",
       "      <td>3.910312e+01</td>\n",
       "    </tr>\n",
       "    <tr>\n",
       "      <th>75%</th>\n",
       "      <td>2.251844e+06</td>\n",
       "      <td>8.143200e+04</td>\n",
       "      <td>2.015000e+03</td>\n",
       "      <td>-7.551381e+01</td>\n",
       "      <td>4.088374e+01</td>\n",
       "    </tr>\n",
       "    <tr>\n",
       "      <th>max</th>\n",
       "      <td>3.002458e+06</td>\n",
       "      <td>6.997607e+09</td>\n",
       "      <td>2.016000e+03</td>\n",
       "      <td>1.457298e+02</td>\n",
       "      <td>6.483778e+01</td>\n",
       "    </tr>\n",
       "  </tbody>\n",
       "</table>\n",
       "</div>"
      ],
      "text/plain": [
       "         Unnamed: 0  PREVAILING_WAGE          YEAR           lon           lat\n",
       "count  3.002458e+06     3.002373e+06  3.002445e+06  2.895216e+06  2.895216e+06\n",
       "mean   1.501230e+06     1.469984e+05  2.013855e+03 -9.213441e+01  3.816054e+01\n",
       "std    8.667351e+05     5.287609e+06  1.680612e+00  1.965591e+01  4.672835e+00\n",
       "min    1.000000e+00     0.000000e+00  2.011000e+03 -1.578583e+02  1.343719e+01\n",
       "25%    7.506152e+05     5.437100e+04  2.012000e+03 -1.119261e+02  3.416536e+01\n",
       "50%    1.501230e+06     6.502100e+04  2.014000e+03 -8.615862e+01  3.910312e+01\n",
       "75%    2.251844e+06     8.143200e+04  2.015000e+03 -7.551381e+01  4.088374e+01\n",
       "max    3.002458e+06     6.997607e+09  2.016000e+03  1.457298e+02  6.483778e+01"
      ]
     },
     "execution_count": 6,
     "metadata": {},
     "output_type": "execute_result"
    }
   ],
   "source": [
    "df.describe()"
   ]
  },
  {
   "cell_type": "markdown",
   "metadata": {},
   "source": [
    "### Let's visualize the Case Status values:"
   ]
  },
  {
   "cell_type": "code",
   "execution_count": 7,
   "metadata": {},
   "outputs": [
    {
     "data": {
      "text/plain": [
       "CERTIFIED                                             2615623\n",
       "CERTIFIED-WITHDRAWN                                    202659\n",
       "DENIED                                                  94346\n",
       "WITHDRAWN                                               89799\n",
       "PENDING QUALITY AND COMPLIANCE REVIEW - UNASSIGNED         15\n",
       "REJECTED                                                    2\n",
       "INVALIDATED                                                 1\n",
       "Name: CASE_STATUS, dtype: int64"
      ]
     },
     "execution_count": 7,
     "metadata": {},
     "output_type": "execute_result"
    }
   ],
   "source": [
    "df['CASE_STATUS'].value_counts()"
   ]
  },
  {
   "cell_type": "markdown",
   "metadata": {},
   "source": [
    "Lets plot these numbers as a bargraph"
   ]
  },
  {
   "cell_type": "code",
   "execution_count": 8,
   "metadata": {},
   "outputs": [
    {
     "data": {
      "text/plain": [
       "<matplotlib.axes._subplots.AxesSubplot at 0x2591016d948>"
      ]
     },
     "execution_count": 8,
     "metadata": {},
     "output_type": "execute_result"
    },
    {
     "data": {
      "image/png": "[encoded data removed]",
      "text/plain": [
       "<Figure size 864x648 with 1 Axes>"
      ]
     },
     "metadata": {
      "needs_background": "light"
     },
     "output_type": "display_data"
    }
   ],
   "source": [
    "df.dropna()\n",
    "df['CASE_STATUS'].value_counts().plot.bar(figsize=(12,9))"
   ]
  },
  {
   "cell_type": "markdown",
   "metadata": {},
   "source": [
    "### Lets look at the employers\n",
    "\n",
    "Are there any employers that are more likely to sponsor H1B visa?"
   ]
  },
  {
   "cell_type": "code",
   "execution_count": 9,
   "metadata": {},
   "outputs": [
    {
     "data": {
      "text/plain": [
       "INFOSYS LIMITED                                    130592\n",
       "TATA CONSULTANCY SERVICES LIMITED                   64726\n",
       "WIPRO LIMITED                                       48117\n",
       "DELOITTE CONSULTING LLP                             36742\n",
       "IBM INDIA PRIVATE LIMITED                           34219\n",
       "                                                    ...  \n",
       "AA GLOBAL RESOURCES TRADING INC                         1\n",
       "STEVEN E. NORTH, PC                                     1\n",
       "ECONOMIC DEVELOPMENT CORPORATION OF KANSAS CITY         1\n",
       "ARIZONABUYERNETWORK COM LLC                             1\n",
       "ENGENNANO TECHNOLOGY, INC.                              1\n",
       "Name: EMPLOYER_NAME, Length: 236013, dtype: int64"
      ]
     },
     "execution_count": 9,
     "metadata": {},
     "output_type": "execute_result"
    }
   ],
   "source": [
    "df['EMPLOYER_NAME'].value_counts()"
   ]
  },
  {
   "cell_type": "code",
   "execution_count": 10,
   "metadata": {},
   "outputs": [
    {
     "data": {
      "text/plain": [
       "236014"
      ]
     },
     "execution_count": 10,
     "metadata": {},
     "output_type": "execute_result"
    }
   ],
   "source": [
    "employers = df['EMPLOYER_NAME'].unique().tolist()\n",
    "len(employers)"
   ]
  },
  {
   "cell_type": "markdown",
   "metadata": {},
   "source": [
    "There are 236,014 unique employers that are willing to sponsor H1B visa. Let's look at the top 25:"
   ]
  },
  {
   "cell_type": "code",
   "execution_count": 11,
   "metadata": {},
   "outputs": [
    {
     "name": "stdout",
     "output_type": "stream",
     "text": [
      "INFOSYS LIMITED                                    130592\n",
      "TATA CONSULTANCY SERVICES LIMITED                   64726\n",
      "WIPRO LIMITED                                       48117\n",
      "DELOITTE CONSULTING LLP                             36742\n",
      "IBM INDIA PRIVATE LIMITED                           34219\n",
      "ACCENTURE LLP                                       33447\n",
      "MICROSOFT CORPORATION                               25576\n",
      "HCL AMERICA, INC.                                   22678\n",
      "ERNST & YOUNG U.S. LLP                              18232\n",
      "COGNIZANT TECHNOLOGY SOLUTIONS U.S. CORPORATION     17528\n",
      "LARSEN & TOUBRO INFOTECH LIMITED                    17457\n",
      "CAPGEMINI AMERICA INC                               16725\n",
      "GOOGLE INC.                                         16473\n",
      "IBM CORPORATION                                     13276\n",
      "IGATE TECHNOLOGIES INC.                             12564\n",
      "INTEL CORPORATION                                   11415\n",
      "TECH MAHINDRA (AMERICAS),INC.                       10732\n",
      "DELOITTE & TOUCHE LLP                                9642\n",
      "AMAZON CORPORATE LLC                                 9026\n",
      "ORACLE AMERICA, INC.                                 7684\n",
      "APPLE INC.                                           7317\n",
      "JPMORGAN CHASE & CO.                                 7035\n",
      "TECH MAHINDRA (AMERICAS), INC.                       7019\n",
      "UST GLOBAL INC.                                      6363\n",
      "UST GLOBAL INC                                       6355\n",
      "Name: EMPLOYER_NAME, dtype: int64\n"
     ]
    }
   ],
   "source": [
    "lst = df['EMPLOYER_NAME'].value_counts()\n",
    "print(lst[:25])"
   ]
  },
  {
   "cell_type": "markdown",
   "metadata": {},
   "source": [
    "### Lets take a look at the jobs that provide a H1B Visa"
   ]
  },
  {
   "cell_type": "code",
   "execution_count": 12,
   "metadata": {},
   "outputs": [
    {
     "data": {
      "text/plain": [
       "PROGRAMMER ANALYST                  249038\n",
       "SOFTWARE ENGINEER                   121307\n",
       "COMPUTER PROGRAMMER                  70570\n",
       "SYSTEMS ANALYST                      61965\n",
       "SOFTWARE DEVELOPER                   42907\n",
       "BUSINESS ANALYST                     39681\n",
       "COMPUTER SYSTEMS ANALYST             35086\n",
       "TECHNOLOGY LEAD - US                 28350\n",
       "SENIOR SOFTWARE ENGINEER             27133\n",
       "TECHNOLOGY ANALYST - US              26055\n",
       "ASSISTANT PROFESSOR                  25265\n",
       "SENIOR CONSULTANT                    24904\n",
       "CONSULTANT                           23081\n",
       "PHYSICAL THERAPIST                   20207\n",
       "PROJECT MANAGER                      20172\n",
       "DATABASE ADMINISTRATOR               16665\n",
       "ACCOUNTANT                           14048\n",
       "COMPUTER PROGRAMMER ANALYST          13634\n",
       "RESEARCH ASSOCIATE                   13623\n",
       "DEVELOPER                            12909\n",
       "ASSOCIATE                            12502\n",
       "ANALYST                              11751\n",
       "LEAD ENGINEER                        11157\n",
       "COMPUTER SYSTEMS ENGINEER            11090\n",
       "SENIOR SOFTWARE DEVELOPER            10208\n",
       "BUSINESS SYSTEMS ANALYST             10110\n",
       "SYSTEMS ENGINEER - US                10036\n",
       "PROGRAMMER/ANALYST                    9375\n",
       "MARKET RESEARCH ANALYST               8934\n",
       "MANAGER                               8561\n",
       "FINANCIAL ANALYST                     8515\n",
       "SYSTEMS ENGINEER                      8078\n",
       "WEB DEVELOPER                         8024\n",
       "POSTDOCTORAL FELLOW                   7857\n",
       "APPLICATION DEVELOPER                 7692\n",
       "JAVA DEVELOPER                        7596\n",
       "CONSULTANT - US                       7426\n",
       "QUALITY ASSURANCE ANALYST             7325\n",
       "MECHANICAL ENGINEER                   7301\n",
       "SOFTWARE DEVELOPMENT ENGINEER         7284\n",
       "PROJECT MANAGER - US                  7046\n",
       "QA ANALYST                            6871\n",
       "COMPUTER PROGRAMMER/CONFIGURER 2      6729\n",
       "SYSTEMS ADMINISTRATOR                 6659\n",
       "PROJECT ENGINEER                      6439\n",
       "DESIGN ENGINEER                       6325\n",
       "POSTDOCTORAL RESEARCH ASSOCIATE       6039\n",
       "PROGRAMMER                            6011\n",
       "RESEARCH FELLOW                       5981\n",
       "PHARMACIST                            5864\n",
       "Name: JOB_TITLE, dtype: int64"
      ]
     },
     "execution_count": 12,
     "metadata": {},
     "output_type": "execute_result"
    }
   ],
   "source": [
    "job_title_list = df['JOB_TITLE'].value_counts()\n",
    "job_title_list[:50]"
   ]
  },
  {
   "cell_type": "code",
   "execution_count": 13,
   "metadata": {},
   "outputs": [
    {
     "data": {
      "text/plain": [
       "1871029"
      ]
     },
     "execution_count": 13,
     "metadata": {},
     "output_type": "execute_result"
    }
   ],
   "source": [
    "other_jobs = (job_title_list[50:]).sum()\n",
    "other_jobs"
   ]
  },
  {
   "cell_type": "code",
   "execution_count": 23,
   "metadata": {},
   "outputs": [
    {
     "data": {
      "text/plain": [
       "<matplotlib.axes._subplots.AxesSubplot at 0x2591105ab88>"
      ]
     },
     "execution_count": 23,
     "metadata": {},
     "output_type": "execute_result"
    },
    {
     "data": {
      "image/png": "[encoded data removed]",
      "text/plain": [
       "<Figure size 864x648 with 1 Axes>"
      ]
     },
     "metadata": {
      "needs_background": "light"
     },
     "output_type": "display_data"
    }
   ],
   "source": [
    "job_title_list[:50].plot.barh(rot=0, figsize=(12,9))"
   ]
  },
  {
   "cell_type": "code",
   "execution_count": 15,
   "metadata": {},
   "outputs": [],
   "source": [
    "s = job_title_list[:50].append(pd.Series(str(other_jobs)))\n"
   ]
  },
  {
   "cell_type": "markdown",
   "metadata": {},
   "source": [
    "### Lets analyze the wages of these roles"
   ]
  },
  {
   "cell_type": "code",
   "execution_count": 20,
   "metadata": {},
   "outputs": [
    {
     "name": "stdout",
     "output_type": "stream",
     "text": [
      "Mean Salary PROGRAMMER ANALYST : $146495.12855177588\n",
      "Mean Salary SOFTWARE ENGINEER : $152094.69667714078\n",
      "Mean Salary COMPUTER PROGRAMMER : $137711.9931182256\n",
      "Mean Salary SYSTEMS ANALYST : $113919.51064472862\n",
      "Mean Salary SOFTWARE DEVELOPER : $195561.8875147996\n",
      "Mean Salary BUSINESS ANALYST : $178216.55877825554\n",
      "Mean Salary COMPUTER SYSTEMS ANALYST : $143927.19898988042\n",
      "Mean Salary TECHNOLOGY LEAD - US : $89446.56942504519\n",
      "Mean Salary SENIOR SOFTWARE ENGINEER : $147439.11782036323\n",
      "Mean Salary TECHNOLOGY ANALYST - US : $81342.67827288313\n",
      "Mean Salary ASSISTANT PROFESSOR : $139882.002502276\n",
      "Mean Salary SENIOR CONSULTANT : $113217.8077537745\n",
      "Mean Salary CONSULTANT : $99863.52926863078\n",
      "Mean Salary PHYSICAL THERAPIST : $141002.8679120044\n",
      "Mean Salary PROJECT MANAGER : $174166.28859798674\n",
      "Mean Salary DATABASE ADMINISTRATOR : $108743.63720132009\n",
      "Mean Salary ACCOUNTANT : $132309.14608058363\n",
      "Mean Salary COMPUTER PROGRAMMER ANALYST : $123239.7544839726\n",
      "Mean Salary RESEARCH ASSOCIATE : $166288.02885414354\n",
      "Mean Salary DEVELOPER : $90157.49001471842\n",
      "Mean Salary ASSOCIATE : $159152.89496000644\n",
      "Mean Salary ANALYST : $127347.90921283333\n",
      "Mean Salary LEAD ENGINEER : $69542.97834543335\n",
      "Mean Salary COMPUTER SYSTEMS ENGINEER : $69205.16299729492\n",
      "Mean Salary SENIOR SOFTWARE DEVELOPER : $130453.68291536043\n",
      "Mean Salary BUSINESS SYSTEMS ANALYST : $185452.05382789328\n",
      "Mean Salary SYSTEMS ENGINEER - US : $53277.45938620969\n",
      "Mean Salary PROGRAMMER/ANALYST : $153808.35878400016\n",
      "Mean Salary MARKET RESEARCH ANALYST : $124226.7570648163\n",
      "Mean Salary MANAGER : $148282.77121626347\n",
      "Mean Salary FINANCIAL ANALYST : $176801.73621682057\n",
      "Mean Salary SYSTEMS ENGINEER : $84043.0904184202\n",
      "Mean Salary WEB DEVELOPER : $112043.59228190436\n",
      "Mean Salary POSTDOCTORAL FELLOW : $146038.6341326204\n",
      "Mean Salary APPLICATION DEVELOPER : $203660.69734399352\n",
      "Mean Salary JAVA DEVELOPER : $85312.80559241708\n",
      "Mean Salary CONSULTANT - US : $91281.12502019944\n",
      "Mean Salary QUALITY ASSURANCE ANALYST : $162667.0966116042\n",
      "Mean Salary MECHANICAL ENGINEER : $182440.55617860562\n",
      "Mean Salary SOFTWARE DEVELOPMENT ENGINEER : $106355.48882482157\n",
      "Mean Salary PROJECT MANAGER - US : $87171.3181663356\n",
      "Mean Salary QA ANALYST : $141435.32684907588\n",
      "Mean Salary COMPUTER PROGRAMMER/CONFIGURER 2 : $67204.0587011443\n",
      "Mean Salary SYSTEMS ADMINISTRATOR : $110777.27433548578\n",
      "Mean Salary PROJECT ENGINEER : $182963.81029978258\n",
      "Mean Salary DESIGN ENGINEER : $98862.05207588925\n",
      "Mean Salary POSTDOCTORAL RESEARCH ASSOCIATE : $103768.03752939228\n",
      "Mean Salary PROGRAMMER : $173990.51994676443\n",
      "Mean Salary RESEARCH FELLOW : $114947.36825948842\n",
      "Mean Salary PHARMACIST : $201749.94974079204\n"
     ]
    }
   ],
   "source": [
    "for i in job_title_list[0:50].index:\n",
    "    sub = df[df['JOB_TITLE']==i]\n",
    "    avg_sal = sub['PREVAILING_WAGE'].mean()\n",
    "    print(\"Mean Salary \"+str(i)+\" : $\"+str(avg_sal))"
   ]
  },
  {
   "cell_type": "markdown",
   "metadata": {},
   "source": [
    "# Now lets read in the file for 2017 and 2018 data"
   ]
  },
  {
   "cell_type": "code",
   "execution_count": 33,
   "metadata": {},
   "outputs": [
    {
     "name": "stderr",
     "output_type": "stream",
     "text": [
      "C:\\ProgramData\\Anaconda3\\lib\\site-packages\\IPython\\core\\interactiveshell.py:3063: DtypeWarning: Columns (15,16,17,25) have mixed types.Specify dtype option on import or set low_memory=False.\n",
      "  interactivity=interactivity, compiler=compiler, result=result)\n"
     ]
    },
    {
     "data": {
      "text/html": [
       "<div>\n",
       "<style scoped>\n",
       "    .dataframe tbody tr th:only-of-type {\n",
       "        vertical-align: middle;\n",
       "    }\n",
       "\n",
       "    .dataframe tbody tr th {\n",
       "        vertical-align: top;\n",
       "    }\n",
       "\n",
       "    .dataframe thead th {\n",
       "        text-align: right;\n",
       "    }\n",
       "</style>\n",
       "<table border=\"1\" class=\"dataframe\">\n",
       "  <thead>\n",
       "    <tr style=\"text-align: right;\">\n",
       "      <th></th>\n",
       "      <th>Unnamed: 0</th>\n",
       "      <th>CASE_NUMBER</th>\n",
       "      <th>CASE_STATUS</th>\n",
       "      <th>CASE_SUBMITTED</th>\n",
       "      <th>DECISION_DATE</th>\n",
       "      <th>VISA_CLASS</th>\n",
       "      <th>EMPLOYMENT_START_DATE</th>\n",
       "      <th>EMPLOYMENT_END_DATE</th>\n",
       "      <th>EMPLOYER_NAME</th>\n",
       "      <th>EMPLOYER_BUSINESS_DBA</th>\n",
       "      <th>...</th>\n",
       "      <th>H1B_DEPENDENT</th>\n",
       "      <th>WILLFUL_VIOLATOR</th>\n",
       "      <th>SUPPORT_H1B</th>\n",
       "      <th>LABOR_CON_AGREE</th>\n",
       "      <th>PUBLIC_DISCLOSURE_LOCATION</th>\n",
       "      <th>WORKSITE_CITY</th>\n",
       "      <th>WORKSITE_COUNTY</th>\n",
       "      <th>WORKSITE_STATE</th>\n",
       "      <th>WORKSITE_POSTAL_CODE</th>\n",
       "      <th>ORIGINAL_CERT_DATE</th>\n",
       "    </tr>\n",
       "  </thead>\n",
       "  <tbody>\n",
       "    <tr>\n",
       "      <th>0</th>\n",
       "      <td>0</td>\n",
       "      <td>I-200-16055-173457</td>\n",
       "      <td>CERTIFIED-WITHDRAWN</td>\n",
       "      <td>2016-02-24</td>\n",
       "      <td>2016-10-01</td>\n",
       "      <td>H-1B</td>\n",
       "      <td>2016-08-10</td>\n",
       "      <td>2019-08-10</td>\n",
       "      <td>DISCOVER PRODUCTS INC.</td>\n",
       "      <td>NaN</td>\n",
       "      <td>...</td>\n",
       "      <td>N</td>\n",
       "      <td>N</td>\n",
       "      <td>NaN</td>\n",
       "      <td>Y</td>\n",
       "      <td>NaN</td>\n",
       "      <td>RIVERWOODS</td>\n",
       "      <td>LAKE</td>\n",
       "      <td>IL</td>\n",
       "      <td>60015</td>\n",
       "      <td>2016-03-01</td>\n",
       "    </tr>\n",
       "    <tr>\n",
       "      <th>1</th>\n",
       "      <td>1</td>\n",
       "      <td>I-200-16064-557834</td>\n",
       "      <td>CERTIFIED-WITHDRAWN</td>\n",
       "      <td>2016-03-04</td>\n",
       "      <td>2016-10-01</td>\n",
       "      <td>H-1B</td>\n",
       "      <td>2016-08-16</td>\n",
       "      <td>2019-08-16</td>\n",
       "      <td>DFS SERVICES LLC</td>\n",
       "      <td>NaN</td>\n",
       "      <td>...</td>\n",
       "      <td>N</td>\n",
       "      <td>N</td>\n",
       "      <td>NaN</td>\n",
       "      <td>Y</td>\n",
       "      <td>NaN</td>\n",
       "      <td>RIVERWOODS</td>\n",
       "      <td>LAKE</td>\n",
       "      <td>IL</td>\n",
       "      <td>60015</td>\n",
       "      <td>2016-03-08</td>\n",
       "    </tr>\n",
       "  </tbody>\n",
       "</table>\n",
       "<p>2 rows × 53 columns</p>\n",
       "</div>"
      ],
      "text/plain": [
       "   Unnamed: 0         CASE_NUMBER          CASE_STATUS CASE_SUBMITTED  \\\n",
       "0           0  I-200-16055-173457  CERTIFIED-WITHDRAWN     2016-02-24   \n",
       "1           1  I-200-16064-557834  CERTIFIED-WITHDRAWN     2016-03-04   \n",
       "\n",
       "  DECISION_DATE VISA_CLASS EMPLOYMENT_START_DATE EMPLOYMENT_END_DATE  \\\n",
       "0    2016-10-01       H-1B            2016-08-10          2019-08-10   \n",
       "1    2016-10-01       H-1B            2016-08-16          2019-08-16   \n",
       "\n",
       "            EMPLOYER_NAME EMPLOYER_BUSINESS_DBA  ... H1B_DEPENDENT  \\\n",
       "0  DISCOVER PRODUCTS INC.                   NaN  ...             N   \n",
       "1        DFS SERVICES LLC                   NaN  ...             N   \n",
       "\n",
       "  WILLFUL_VIOLATOR SUPPORT_H1B LABOR_CON_AGREE PUBLIC_DISCLOSURE_LOCATION  \\\n",
       "0                N         NaN               Y                        NaN   \n",
       "1                N         NaN               Y                        NaN   \n",
       "\n",
       "  WORKSITE_CITY WORKSITE_COUNTY WORKSITE_STATE WORKSITE_POSTAL_CODE  \\\n",
       "0    RIVERWOODS            LAKE             IL                60015   \n",
       "1    RIVERWOODS            LAKE             IL                60015   \n",
       "\n",
       "  ORIGINAL_CERT_DATE  \n",
       "0         2016-03-01  \n",
       "1         2016-03-08  \n",
       "\n",
       "[2 rows x 53 columns]"
      ]
     },
     "execution_count": 33,
     "metadata": {},
     "output_type": "execute_result"
    }
   ],
   "source": [
    "df_17= pd.read_csv('h1b17.csv', encoding='utf-8')\n",
    "df_17.head(2)"
   ]
  },
  {
   "cell_type": "code",
   "execution_count": 29,
   "metadata": {},
   "outputs": [
    {
     "name": "stdout",
     "output_type": "stream",
     "text": [
      "<class 'pandas.core.frame.DataFrame'>\n",
      "RangeIndex: 624650 entries, 0 to 624649\n",
      "Data columns (total 53 columns):\n",
      " #   Column                       Non-Null Count   Dtype  \n",
      "---  ------                       --------------   -----  \n",
      " 0   Unnamed: 0                   624650 non-null  int64  \n",
      " 1   CASE_NUMBER                  624650 non-null  object \n",
      " 2   CASE_STATUS                  624650 non-null  object \n",
      " 3   CASE_SUBMITTED               624650 non-null  object \n",
      " 4   DECISION_DATE                624650 non-null  object \n",
      " 5   VISA_CLASS                   624650 non-null  object \n",
      " 6   EMPLOYMENT_START_DATE        624621 non-null  object \n",
      " 7   EMPLOYMENT_END_DATE          624620 non-null  object \n",
      " 8   EMPLOYER_NAME                624594 non-null  object \n",
      " 9   EMPLOYER_BUSINESS_DBA        43270 non-null   object \n",
      " 10  EMPLOYER_ADDRESS             624643 non-null  object \n",
      " 11  EMPLOYER_CITY                624635 non-null  object \n",
      " 12  EMPLOYER_STATE               624632 non-null  object \n",
      " 13  EMPLOYER_POSTAL_CODE         624632 non-null  object \n",
      " 14  EMPLOYER_COUNTRY             528143 non-null  object \n",
      " 15  EMPLOYER_PROVINCE            6116 non-null    object \n",
      " 16  EMPLOYER_PHONE               528142 non-null  object \n",
      " 17  EMPLOYER_PHONE_EXT           27872 non-null   object \n",
      " 18  AGENT_REPRESENTING_EMPLOYER  528144 non-null  object \n",
      " 19  AGENT_ATTORNEY_NAME          624650 non-null  object \n",
      " 20  AGENT_ATTORNEY_CITY          351344 non-null  object \n",
      " 21  AGENT_ATTORNEY_STATE         336009 non-null  object \n",
      " 22  JOB_TITLE                    624645 non-null  object \n",
      " 23  SOC_CODE                     624648 non-null  object \n",
      " 24  SOC_NAME                     624647 non-null  object \n",
      " 25  NAICS_CODE                   624643 non-null  object \n",
      " 26  TOTAL_WORKERS                624650 non-null  int64  \n",
      " 27  NEW_EMPLOYMENT               624650 non-null  int64  \n",
      " 28  CONTINUED_EMPLOYMENT         624650 non-null  int64  \n",
      " 29  CHANGE_PREVIOUS_EMPLOYMENT   624650 non-null  int64  \n",
      " 30  NEW_CONCURRENT_EMPLOYMENT    624650 non-null  int64  \n",
      " 31  CHANGE_EMPLOYER              624650 non-null  int64  \n",
      " 32  AMENDED_PETITION             624650 non-null  int64  \n",
      " 33  FULL_TIME_POSITION           624645 non-null  object \n",
      " 34  PREVAILING_WAGE              624649 non-null  float64\n",
      " 35  PW_UNIT_OF_PAY               624604 non-null  object \n",
      " 36  PW_WAGE_LEVEL                500930 non-null  object \n",
      " 37  PW_SOURCE                    624604 non-null  object \n",
      " 38  PW_SOURCE_YEAR               624605 non-null  float64\n",
      " 39  PW_SOURCE_OTHER              618278 non-null  object \n",
      " 40  WAGE_RATE_OF_PAY_FROM        624650 non-null  float64\n",
      " 41  WAGE_RATE_OF_PAY_TO          624649 non-null  float64\n",
      " 42  WAGE_UNIT_OF_PAY             624642 non-null  object \n",
      " 43  H1B_DEPENDENT                610908 non-null  object \n",
      " 44  WILLFUL_VIOLATOR             610905 non-null  object \n",
      " 45  SUPPORT_H1B                  240476 non-null  object \n",
      " 46  LABOR_CON_AGREE              244975 non-null  object \n",
      " 47  PUBLIC_DISCLOSURE_LOCATION   0 non-null       float64\n",
      " 48  WORKSITE_CITY                624637 non-null  object \n",
      " 49  WORKSITE_COUNTY              623471 non-null  object \n",
      " 50  WORKSITE_STATE               624641 non-null  object \n",
      " 51  WORKSITE_POSTAL_CODE         624631 non-null  object \n",
      " 52  ORIGINAL_CERT_DATE           49708 non-null   object \n",
      "dtypes: float64(5), int64(8), object(40)\n",
      "memory usage: 252.6+ MB\n"
     ]
    }
   ],
   "source": [
    "df_17.info()"
   ]
  },
  {
   "cell_type": "code",
   "execution_count": 31,
   "metadata": {},
   "outputs": [
    {
     "data": {
      "text/plain": [
       "(624650, 53)"
      ]
     },
     "execution_count": 31,
     "metadata": {},
     "output_type": "execute_result"
    }
   ],
   "source": [
    "df_17.shape"
   ]
  },
  {
   "cell_type": "code",
   "execution_count": 32,
   "metadata": {},
   "outputs": [
    {
     "data": {
      "text/html": [
       "<div>\n",
       "<style scoped>\n",
       "    .dataframe tbody tr th:only-of-type {\n",
       "        vertical-align: middle;\n",
       "    }\n",
       "\n",
       "    .dataframe tbody tr th {\n",
       "        vertical-align: top;\n",
       "    }\n",
       "\n",
       "    .dataframe thead th {\n",
       "        text-align: right;\n",
       "    }\n",
       "</style>\n",
       "<table border=\"1\" class=\"dataframe\">\n",
       "  <thead>\n",
       "    <tr style=\"text-align: right;\">\n",
       "      <th></th>\n",
       "      <th>CASE_NUMBER</th>\n",
       "      <th>CASE_STATUS</th>\n",
       "      <th>CASE_SUBMITTED</th>\n",
       "      <th>DECISION_DATE</th>\n",
       "      <th>VISA_CLASS</th>\n",
       "      <th>EMPLOYMENT_START_DATE</th>\n",
       "      <th>EMPLOYMENT_END_DATE</th>\n",
       "      <th>EMPLOYER_NAME</th>\n",
       "      <th>EMPLOYER_CITY</th>\n",
       "      <th>EMPLOYER_STATE</th>\n",
       "      <th>EMPLOYER_POSTAL_CODE</th>\n",
       "      <th>JOB_TITLE</th>\n",
       "      <th>SOC_CODE</th>\n",
       "      <th>SOC_NAME</th>\n",
       "      <th>FULL_TIME_POSITION</th>\n",
       "      <th>PREVAILING_WAGE</th>\n",
       "      <th>PW_UNIT_OF_PAY</th>\n",
       "      <th>WAGE_RATE_OF_PAY_FROM</th>\n",
       "      <th>WAGE_RATE_OF_PAY_TO</th>\n",
       "      <th>WAGE_UNIT_OF_PAY</th>\n",
       "    </tr>\n",
       "  </thead>\n",
       "  <tbody>\n",
       "    <tr>\n",
       "      <th>0</th>\n",
       "      <td>I-200-18026-338377</td>\n",
       "      <td>CERTIFIED</td>\n",
       "      <td>1/29/18</td>\n",
       "      <td>2/2/18</td>\n",
       "      <td>H-1B</td>\n",
       "      <td>7/28/18</td>\n",
       "      <td>7/27/21</td>\n",
       "      <td>MICROSOFT CORPORATION</td>\n",
       "      <td>REDMOND</td>\n",
       "      <td>WA</td>\n",
       "      <td>98052</td>\n",
       "      <td>SOFTWARE ENGINEER</td>\n",
       "      <td>15-1132</td>\n",
       "      <td>SOFTWARE DEVELOPERS, APPLICATIONS</td>\n",
       "      <td>Y</td>\n",
       "      <td>112,549.00</td>\n",
       "      <td>Year</td>\n",
       "      <td>143,915.00</td>\n",
       "      <td>0.00</td>\n",
       "      <td>Year</td>\n",
       "    </tr>\n",
       "    <tr>\n",
       "      <th>1</th>\n",
       "      <td>I-200-17296-353451</td>\n",
       "      <td>CERTIFIED</td>\n",
       "      <td>10/23/17</td>\n",
       "      <td>10/27/17</td>\n",
       "      <td>H-1B</td>\n",
       "      <td>11/6/17</td>\n",
       "      <td>11/6/20</td>\n",
       "      <td>ERNST &amp; YOUNG U.S. LLP</td>\n",
       "      <td>SECAUCUS</td>\n",
       "      <td>NJ</td>\n",
       "      <td>07094</td>\n",
       "      <td>TAX SENIOR</td>\n",
       "      <td>13-2011</td>\n",
       "      <td>ACCOUNTANTS AND AUDITORS</td>\n",
       "      <td>Y</td>\n",
       "      <td>79,976.00</td>\n",
       "      <td>Year</td>\n",
       "      <td>100,000.00</td>\n",
       "      <td>0.00</td>\n",
       "      <td>Year</td>\n",
       "    </tr>\n",
       "  </tbody>\n",
       "</table>\n",
       "</div>"
      ],
      "text/plain": [
       "          CASE_NUMBER CASE_STATUS CASE_SUBMITTED DECISION_DATE VISA_CLASS  \\\n",
       "0  I-200-18026-338377   CERTIFIED        1/29/18        2/2/18       H-1B   \n",
       "1  I-200-17296-353451   CERTIFIED       10/23/17      10/27/17       H-1B   \n",
       "\n",
       "  EMPLOYMENT_START_DATE EMPLOYMENT_END_DATE           EMPLOYER_NAME  \\\n",
       "0               7/28/18             7/27/21   MICROSOFT CORPORATION   \n",
       "1               11/6/17             11/6/20  ERNST & YOUNG U.S. LLP   \n",
       "\n",
       "  EMPLOYER_CITY EMPLOYER_STATE EMPLOYER_POSTAL_CODE          JOB_TITLE  \\\n",
       "0       REDMOND             WA                98052  SOFTWARE ENGINEER   \n",
       "1      SECAUCUS             NJ                07094         TAX SENIOR   \n",
       "\n",
       "  SOC_CODE                           SOC_NAME FULL_TIME_POSITION  \\\n",
       "0  15-1132  SOFTWARE DEVELOPERS, APPLICATIONS                  Y   \n",
       "1  13-2011           ACCOUNTANTS AND AUDITORS                  Y   \n",
       "\n",
       "  PREVAILING_WAGE PW_UNIT_OF_PAY WAGE_RATE_OF_PAY_FROM WAGE_RATE_OF_PAY_TO  \\\n",
       "0      112,549.00           Year            143,915.00                0.00   \n",
       "1       79,976.00           Year            100,000.00                0.00   \n",
       "\n",
       "  WAGE_UNIT_OF_PAY  \n",
       "0             Year  \n",
       "1             Year  "
      ]
     },
     "execution_count": 32,
     "metadata": {},
     "output_type": "execute_result"
    }
   ],
   "source": [
    "df_18 = pd.read_csv('h1b18.csv', encoding='utf-8')\n",
    "df_18.head(2)"
   ]
  },
  {
   "cell_type": "code",
   "execution_count": 25,
   "metadata": {},
   "outputs": [
    {
     "data": {
      "text/plain": [
       "(654360, 20)"
      ]
     },
     "execution_count": 25,
     "metadata": {},
     "output_type": "execute_result"
    }
   ],
   "source": [
    "df_18.shape"
   ]
  },
  {
   "cell_type": "code",
   "execution_count": 30,
   "metadata": {},
   "outputs": [
    {
     "name": "stdout",
     "output_type": "stream",
     "text": [
      "<class 'pandas.core.frame.DataFrame'>\n",
      "RangeIndex: 654360 entries, 0 to 654359\n",
      "Data columns (total 20 columns):\n",
      " #   Column                 Non-Null Count   Dtype \n",
      "---  ------                 --------------   ----- \n",
      " 0   CASE_NUMBER            654360 non-null  object\n",
      " 1   CASE_STATUS            654360 non-null  object\n",
      " 2   CASE_SUBMITTED         654359 non-null  object\n",
      " 3   DECISION_DATE          654360 non-null  object\n",
      " 4   VISA_CLASS             654360 non-null  object\n",
      " 5   EMPLOYMENT_START_DATE  654353 non-null  object\n",
      " 6   EMPLOYMENT_END_DATE    654349 non-null  object\n",
      " 7   EMPLOYER_NAME          654341 non-null  object\n",
      " 8   EMPLOYER_CITY          654349 non-null  object\n",
      " 9   EMPLOYER_STATE         654287 non-null  object\n",
      " 10  EMPLOYER_POSTAL_CODE   654342 non-null  object\n",
      " 11  JOB_TITLE              654355 non-null  object\n",
      " 12  SOC_CODE               654349 non-null  object\n",
      " 13  SOC_NAME               654349 non-null  object\n",
      " 14  FULL_TIME_POSITION     654354 non-null  object\n",
      " 15  PREVAILING_WAGE        654357 non-null  object\n",
      " 16  PW_UNIT_OF_PAY         654303 non-null  object\n",
      " 17  WAGE_RATE_OF_PAY_FROM  654360 non-null  object\n",
      " 18  WAGE_RATE_OF_PAY_TO    654357 non-null  object\n",
      " 19  WAGE_UNIT_OF_PAY       654347 non-null  object\n",
      "dtypes: object(20)\n",
      "memory usage: 99.8+ MB\n"
     ]
    }
   ],
   "source": [
    "df_18.info()"
   ]
  },
  {
   "cell_type": "markdown",
   "metadata": {},
   "source": [
    "Lots of Interesting things to note here. The data for 2017 and 2018 has a lot of attributes compared to the data for 2016.\n",
    "The number of examples in both 2017 and 2018 is almost double of 2016s"
   ]
  },
  {
   "cell_type": "code",
   "execution_count": 35,
   "metadata": {},
   "outputs": [
    {
     "data": {
      "text/plain": [
       "PROGRAMMER ANALYST                        47151\n",
       "SOFTWARE ENGINEER                         27950\n",
       "SOFTWARE DEVELOPER                        16107\n",
       "SYSTEMS ANALYST                           10798\n",
       "BUSINESS ANALYST                           7410\n",
       "COMPUTER PROGRAMMER                        7303\n",
       "SENIOR SOFTWARE ENGINEER                   6983\n",
       "COMPUTER SYSTEMS ANALYST                   6555\n",
       "DEVELOPER                                  5835\n",
       "ASSISTANT PROFESSOR                        4957\n",
       "PROJECT MANAGER                            4262\n",
       "CONSULTANT                                 3816\n",
       "DEVELOPER USER INTERFACE                   3717\n",
       "ASSOCIATE                                  3354\n",
       "ANALYST                                    3155\n",
       "SENIOR CONSULTANT                          3111\n",
       "DATABASE ADMINISTRATOR                     3080\n",
       "TECHNOLOGY LEAD - US                       2812\n",
       "PHYSICAL THERAPIST                         2715\n",
       "SENIOR SOFTWARE DEVELOPER                  2600\n",
       "APPLICATION DEVELOPER                      2534\n",
       "JAVA DEVELOPER                             2480\n",
       "ACCOUNTANT                                 2425\n",
       "TECHNOLOGY LEAD - US - PRACTITIONER        2238\n",
       "COMPUTER PROGRAMMER ANALYST                2160\n",
       "BUSINESS SYSTEMS ANALYST                   2012\n",
       "NETWORK ENGINEER                           1943\n",
       "ADVISORY SENIOR                            1935\n",
       "ARCHITECT                                  1916\n",
       "RESEARCH ASSOCIATE                         1915\n",
       "LEAD ENGINEER                              1886\n",
       "SYSTEMS ENGINEER                           1825\n",
       "PROGRAMMER/DEVELOPER 2                     1716\n",
       "ADVISORY MANAGER                           1706\n",
       "MECHANICAL ENGINEER                        1703\n",
       "QA ANALYST                                 1651\n",
       "TECHNOLOGY ANALYST - US                    1610\n",
       "MANAGER                                    1566\n",
       "SYSTEMS ADMINISTRATOR                      1543\n",
       "FINANCIAL ANALYST                          1524\n",
       "PROGRAMMER/ANALYST                         1419\n",
       "SYSTEM ANALYST                             1405\n",
       "DATA ANALYST                               1396\n",
       "COMPUTER SYSTEMS ENGINEER                  1370\n",
       "SR. SOFTWARE ENGINEER                      1350\n",
       "TECHNOLOGY ANALYST - US - PROFESSIONAL     1328\n",
       "QUALITY ASSURANCE ANALYST                  1327\n",
       "DATA SCIENTIST                             1312\n",
       "SOFTWARE DEVELOPMENT ENGINEER II           1260\n",
       "DESIGN ENGINEER                            1225\n",
       "Name: JOB_TITLE, dtype: int64"
      ]
     },
     "execution_count": 35,
     "metadata": {},
     "output_type": "execute_result"
    }
   ],
   "source": [
    "top_jobs_2017 = (df_17['JOB_TITLE'].value_counts())[:50]\n",
    "top_jobs_2017"
   ]
  },
  {
   "cell_type": "code",
   "execution_count": 36,
   "metadata": {},
   "outputs": [
    {
     "data": {
      "text/plain": [
       "SOFTWARE DEVELOPER                     34907\n",
       "SOFTWARE ENGINEER                      31943\n",
       "PROGRAMMER ANALYST                     14109\n",
       "SENIOR SOFTWARE ENGINEER                8430\n",
       "SENIOR SYSTEMS ANALYST JC60             7041\n",
       "DEVELOPER                               6244\n",
       "SYSTEMS ANALYST                         6131\n",
       "CONSULTANT                              6004\n",
       "ASSISTANT PROFESSOR                     5302\n",
       "BUSINESS ANALYST                        5145\n",
       "SENIOR CONSULTANT                       4925\n",
       "ANALYST                                 4821\n",
       "PROJECT MANAGER                         3904\n",
       "JAVA DEVELOPER                          3578\n",
       "SENIOR SOFTWARE DEVELOPER               3516\n",
       "ASSOCIATE                               3501\n",
       "COMPUTER SYSTEMS ANALYST                3337\n",
       "DATABASE ADMINISTRATOR                  2980\n",
       "ENGINEER                                2927\n",
       "COMPUTER PROGRAMMER                     2926\n",
       "APPLICATION DEVELOPER                   2872\n",
       "PHYSICAL THERAPIST                      2642\n",
       "DEVELOPER USER INTERFACE                2577\n",
       "MANAGER JC50                            2490\n",
       "MANAGER                                 2404\n",
       "SYSTEMS ENGINEER                        2385\n",
       "TECHNOLOGY LEAD - US                    2333\n",
       "DATA SCIENTIST                          2273\n",
       "ACCOUNTANT                              2207\n",
       "LEAD ENGINEER                           2203\n",
       "NETWORK ENGINEER                        2020\n",
       "TECHNOLOGY LEAD - US - PRACTITIONER     1901\n",
       "RESEARCH ASSOCIATE                      1797\n",
       "TECHNICAL LEAD                          1768\n",
       "SR. SOFTWARE ENGINEER                   1726\n",
       "BUSINESS SYSTEMS ANALYST                1721\n",
       "COMPUTER SYSTEMS ANALYSTS               1709\n",
       "MECHANICAL ENGINEER                     1705\n",
       "ARCHITECT                               1669\n",
       "PROJECT ENGINEER                        1546\n",
       "SOFTWARE DEVELOPMENT ENGINEER II        1543\n",
       "DATA ANALYST                            1514\n",
       "FINANCIAL ANALYST                       1502\n",
       "DEVOPS ENGINEER                         1466\n",
       "SOFTWARE DEVELOPMENT ENGINEER           1442\n",
       "COMPUTER SYSTEMS ENGINEER               1281\n",
       "QA ANALYST                              1280\n",
       "ACCOUNTANTS AND AUDITORS                1190\n",
       "VICE PRESIDENT                          1190\n",
       "DESIGN ENGINEER                         1158\n",
       "Name: JOB_TITLE, dtype: int64"
      ]
     },
     "execution_count": 36,
     "metadata": {},
     "output_type": "execute_result"
    }
   ],
   "source": [
    "top_jobs_2018 = (df_18['JOB_TITLE'].value_counts())[:50]\n",
    "top_jobs_2018"
   ]
  },
  {
   "cell_type": "markdown",
   "metadata": {},
   "source": [
    "## lets analyze the top 10 results from 2018"
   ]
  },
  {
   "cell_type": "code",
   "execution_count": 46,
   "metadata": {},
   "outputs": [
    {
     "data": {
      "text/plain": [
       "<matplotlib.axes._subplots.AxesSubplot at 0x25a0733b808>"
      ]
     },
     "execution_count": 46,
     "metadata": {},
     "output_type": "execute_result"
    },
    {
     "data": {
      "image/png": "[encoded data removed]",
      "text/plain": [
       "<Figure size 864x648 with 1 Axes>"
      ]
     },
     "metadata": {
      "needs_background": "light"
     },
     "output_type": "display_data"
    }
   ],
   "source": [
    "temp_df = df_17[df_17['JOB_TITLE']=='SOFTWARE DEVELOPER']\n",
    "temp_df['PREVAILING_WAGE'].plot.barh(rot=0, figsize=(12,9))"
   ]
  },
  {
   "cell_type": "markdown",
   "metadata": {},
   "source": [
    "As we can see, we should not plot a continuous value like wage as a bar plot. A good approach to put the bar plot would be \n",
    "to use the Binning technique."
   ]
  },
  {
   "cell_type": "code",
   "execution_count": 47,
   "metadata": {},
   "outputs": [
    {
     "ename": "AttributeError",
     "evalue": "module 'matplotlib' has no attribute 'hist'",
     "output_type": "error",
     "traceback": [
      "\u001b[1;31m---------------------------------------------------------------------------\u001b[0m",
      "\u001b[1;31mAttributeError\u001b[0m                            Traceback (most recent call last)",
      "\u001b[1;32m<ipython-input-47-11d86850e922>\u001b[0m in \u001b[0;36m<module>\u001b[1;34m\u001b[0m\n\u001b[0;32m      1\u001b[0m \u001b[0mbins\u001b[0m\u001b[1;33m=\u001b[0m \u001b[1;33m[\u001b[0m\u001b[1;36m0.00\u001b[0m\u001b[1;33m,\u001b[0m\u001b[1;36m25000.00\u001b[0m\u001b[1;33m,\u001b[0m\u001b[1;36m50000.00\u001b[0m\u001b[1;33m,\u001b[0m\u001b[1;36m100000.00\u001b[0m\u001b[1;33m,\u001b[0m\u001b[1;36m200000.00\u001b[0m\u001b[1;33m]\u001b[0m\u001b[1;33m\u001b[0m\u001b[1;33m\u001b[0m\u001b[0m\n\u001b[1;32m----> 2\u001b[1;33m \u001b[0mplt\u001b[0m\u001b[1;33m.\u001b[0m\u001b[0mhist\u001b[0m\u001b[1;33m(\u001b[0m\u001b[0mtemp_df\u001b[0m\u001b[1;33m[\u001b[0m\u001b[1;34m'PREVAILING_WAGE'\u001b[0m\u001b[1;33m]\u001b[0m\u001b[1;33m,\u001b[0m \u001b[0mbins\u001b[0m\u001b[1;33m=\u001b[0m\u001b[0mbins\u001b[0m\u001b[1;33m,\u001b[0m \u001b[0medgecolor\u001b[0m\u001b[1;33m=\u001b[0m\u001b[1;34m\"k\"\u001b[0m\u001b[1;33m)\u001b[0m\u001b[1;33m\u001b[0m\u001b[1;33m\u001b[0m\u001b[0m\n\u001b[0m\u001b[0;32m      3\u001b[0m \u001b[0mplt\u001b[0m\u001b[1;33m.\u001b[0m\u001b[0mxticks\u001b[0m\u001b[1;33m(\u001b[0m\u001b[0mbins\u001b[0m\u001b[1;33m)\u001b[0m\u001b[1;33m\u001b[0m\u001b[1;33m\u001b[0m\u001b[0m\n\u001b[0;32m      4\u001b[0m \u001b[1;33m\u001b[0m\u001b[0m\n\u001b[0;32m      5\u001b[0m \u001b[0mplt\u001b[0m\u001b[1;33m.\u001b[0m\u001b[0mshow\u001b[0m\u001b[1;33m(\u001b[0m\u001b[1;33m)\u001b[0m\u001b[1;33m\u001b[0m\u001b[1;33m\u001b[0m\u001b[0m\n",
      "\u001b[1;31mAttributeError\u001b[0m: module 'matplotlib' has no attribute 'hist'"
     ]
    }
   ],
   "source": [
    "bins= [0.00,25000.00,50000.00,100000.00,200000.00]\n",
    "plt.hist(temp_df['PREVAILING_WAGE'], bins=bins, edgecolor=\"k\")\n",
    "plt.xticks(bins)\n",
    "\n",
    "plt.show()"
   ]
  },
  {
   "cell_type": "code",
   "execution_count": null,
   "metadata": {},
   "outputs": [],
   "source": []
  }
 ],
 "metadata": {
  "kernelspec": {
   "display_name": "Python 3",
   "language": "python",
   "name": "python3"
  },
  "language_info": {
   "codemirror_mode": {
    "name": "ipython",
    "version": 3
   },
   "file_extension": ".py",
   "mimetype": "text/x-python",
   "name": "python",
   "nbconvert_exporter": "python",
   "pygments_lexer": "ipython3",
   "version": "3.7.6"
  }
 },
 "nbformat": 4,
 "nbformat_minor": 4
}
